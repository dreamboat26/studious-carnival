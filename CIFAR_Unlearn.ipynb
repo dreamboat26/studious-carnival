{
  "cells": [
    {
      "cell_type": "code",
      "execution_count": null,
      "metadata": {
        "id": "3xveQOkVY_Wc"
      },
      "outputs": [],
      "source": [
        "import torch\n",
        "from torch.utils.data import DataLoader"
      ],
      "id": "3xveQOkVY_Wc"
    },
    {
      "cell_type": "code",
      "source": [
        "from torchvision.datasets import CIFAR100\n",
        "import torch\n",
        "from torch.utils.data import Dataset\n",
        "from torchvision import transforms\n",
        "\n",
        "transform_train = transforms.Compose([\n",
        "    transforms.Resize(224),\n",
        "    transforms.ToTensor(),\n",
        "    transforms.Normalize((0.4914, 0.4822, 0.4465), (0.2023, 0.1994, 0.2010)),\n",
        "])\n",
        "\n",
        "transform_test = transforms.Compose([\n",
        "    transforms.Resize(224),\n",
        "    transforms.ToTensor(),\n",
        "    transforms.Normalize((0.4914, 0.4822, 0.4465), (0.2023, 0.1994, 0.2010)),\n",
        "])\n",
        "\n",
        "class CustomCIFAR100(CIFAR100):\n",
        "    def __init__(self, root, train, download, transform):\n",
        "        super().__init__(root = root, train = train, download = download, transform = transform)\n",
        "        self.coarse_map = {\n",
        "            0:[4, 30, 55, 72, 95],\n",
        "            1:[1, 32, 67, 73, 91],\n",
        "            2:[54, 62, 70, 82, 92],\n",
        "            3:[9, 10, 16, 28, 61],\n",
        "            4:[0, 51, 53, 57, 83],\n",
        "            5:[22, 39, 40, 86, 87],\n",
        "            6:[5, 20, 25, 84, 94],\n",
        "            7:[6, 7, 14, 18, 24],\n",
        "            8:[3, 42, 43, 88, 97],\n",
        "            9:[12, 17, 37, 68, 76],\n",
        "            10:[23, 33, 49, 60, 71],\n",
        "            11:[15, 19, 21, 31, 38],\n",
        "            12:[34, 63, 64, 66, 75],\n",
        "            13:[26, 45, 77, 79, 99],\n",
        "            14:[2, 11, 35, 46, 98],\n",
        "            15:[27, 29, 44, 78, 93],\n",
        "            16:[36, 50, 65, 74, 80],\n",
        "            17:[47, 52, 56, 59, 96],\n",
        "            18:[8, 13, 48, 58, 90],\n",
        "            19:[41, 69, 81, 85, 89]\n",
        "        }\n",
        "\n",
        "\n",
        "    def __getitem__(self, index):\n",
        "        x, y = super().__getitem__(index)\n",
        "        coarse_y = None\n",
        "        for i in range(20):\n",
        "            for j in self.coarse_map[i]:\n",
        "                if y == j:\n",
        "                    coarse_y = i\n",
        "                    break\n",
        "            if coarse_y != None:\n",
        "                break\n",
        "        if coarse_y == None:\n",
        "            print(y)\n",
        "            assert coarse_y != None\n",
        "        return x, y, coarse_y\n",
        "\n",
        "\n",
        "class UnLearningData(Dataset):\n",
        "    def __init__(self, forget_data, retain_data):\n",
        "        super().__init__()\n",
        "        self.forget_data = forget_data\n",
        "        self.retain_data = retain_data\n",
        "        self.forget_len = len(forget_data)\n",
        "        self.retain_len = len(retain_data)\n",
        "\n",
        "    def __len__(self):\n",
        "        return self.retain_len + self.forget_len\n",
        "\n",
        "    def __getitem__(self, index):\n",
        "        if(index < self.forget_len):\n",
        "            x = self.forget_data[index][0]\n",
        "            y = 1\n",
        "            return x,y\n",
        "        else:\n",
        "            x = self.retain_data[index - self.forget_len][0]\n",
        "            y = 0\n",
        "            return x,y"
      ],
      "metadata": {
        "id": "w7t062v5mFpq"
      },
      "id": "w7t062v5mFpq",
      "execution_count": null,
      "outputs": []
    },
    {
      "cell_type": "code",
      "source": [
        "import torch\n",
        "from torch import nn\n",
        "from torch.nn import functional as F\n",
        "\n",
        "\n",
        "def accuracy(outputs, labels):\n",
        "    _, preds = torch.max(outputs, dim=1)\n",
        "    return torch.tensor(torch.sum(preds == labels).item() / len(preds))*100\n",
        "\n",
        "def training_step(model, batch, device):\n",
        "    images, labels, clabels = batch\n",
        "    images, clabels = images.to(device), clabels.to(device)\n",
        "    out = model(images)\n",
        "    loss = F.cross_entropy(out, clabels)\n",
        "    return loss\n",
        "\n",
        "def validation_step(model, batch, device):\n",
        "    images, labels, clabels = batch\n",
        "    images, clabels = images.to(device), clabels.to(device)\n",
        "    out = model(images)\n",
        "    loss = F.cross_entropy(out, clabels)\n",
        "    acc = accuracy(out, clabels)\n",
        "    return {'Loss': loss.detach(), 'Acc': acc}\n",
        "\n",
        "def validation_epoch_end(model, outputs):\n",
        "    batch_losses = [x['Loss'] for x in outputs]\n",
        "    epoch_loss = torch.stack(batch_losses).mean()\n",
        "    batch_accs = [x['Acc'] for x in outputs]\n",
        "    epoch_acc = torch.stack(batch_accs).mean()\n",
        "    return {'Loss': epoch_loss.item(), 'Acc': epoch_acc.item()}\n",
        "\n",
        "def epoch_end(model, epoch, result):\n",
        "    print(\"Epoch [{}], last_lr: {:.5f}, train_loss: {:.4f}, val_loss: {:.4f}, val_acc: {:.4f}\".format(\n",
        "        epoch, result['lrs'][-1], result['train_loss'], result['Loss'], result['Acc']))\n",
        "\n",
        "@torch.no_grad()\n",
        "def evaluate(model, val_loader, device):\n",
        "    model.eval()\n",
        "    outputs = [validation_step(model, batch, device) for batch in val_loader]\n",
        "    return validation_epoch_end(model, outputs)\n",
        "\n",
        "def get_lr(optimizer):\n",
        "    for param_group in optimizer.param_groups:\n",
        "        return param_group['lr']\n",
        "\n",
        "def fit_one_cycle(epochs,  model, train_loader, val_loader, device, pretrained_lr=0.001, finetune_lr=0.01):\n",
        "    torch.cuda.empty_cache()\n",
        "    history = []\n",
        "\n",
        "    try:\n",
        "        param_groups = [\n",
        "            {'params':model.base.parameters(),'lr':pretrained_lr},\n",
        "            {'params':model.final.parameters(),'lr':finetune_lr}\n",
        "        ]\n",
        "        optimizer = torch.optim.Adam(param_groups)\n",
        "    except:\n",
        "        optimizer = torch.optim.Adam(model.parameters(), finetune_lr)\n",
        "\n",
        "    sched = torch.optim.lr_scheduler.ReduceLROnPlateau(optimizer, mode='min', factor=0.5, patience=3, verbose=True)\n",
        "\n",
        "    for epoch in range(epochs):\n",
        "        model.train()\n",
        "        train_losses = []\n",
        "        lrs = []\n",
        "        for batch in train_loader:\n",
        "            loss = training_step(model, batch, device)\n",
        "            train_losses.append(loss)\n",
        "            loss.backward()\n",
        "\n",
        "            optimizer.step()\n",
        "            optimizer.zero_grad()\n",
        "\n",
        "            lrs.append(get_lr(optimizer))\n",
        "\n",
        "\n",
        "        # Validation phase\n",
        "        result = evaluate(model, val_loader, device)\n",
        "        result['train_loss'] = torch.stack(train_losses).mean().item()\n",
        "        result['lrs'] = lrs\n",
        "        epoch_end(model, epoch, result)\n",
        "        history.append(result)\n",
        "        sched.step(result['Loss'])\n",
        "    return history"
      ],
      "metadata": {
        "id": "M6FoifDNmTZN"
      },
      "id": "M6FoifDNmTZN",
      "execution_count": null,
      "outputs": []
    },
    {
      "cell_type": "code",
      "source": [
        "from torch import nn\n",
        "import numpy as np\n",
        "import torch\n",
        "from torchvision.models import resnet18\n",
        "\n",
        "class Identity(nn.Module):\n",
        "    def __init__(self):\n",
        "        super(Identity, self).__init__()\n",
        "\n",
        "    def forward(self, x):\n",
        "        return x\n",
        "\n",
        "class Flatten(nn.Module):\n",
        "    def __init__(self):\n",
        "        super(Flatten, self).__init__()\n",
        "    def forward(self,x):\n",
        "        return x.view(x.size(0), -1)\n",
        "\n",
        "class ConvStandard(nn.Conv2d):\n",
        "    def __init__(self, in_channels, out_channels, kernel_size=3, stride=1, padding=None, output_padding=0, w_sig =\\\n",
        "                 np.sqrt(1.0)):\n",
        "        super(ConvStandard, self).__init__(in_channels, out_channels,kernel_size)\n",
        "        self.in_channels=in_channels\n",
        "        self.out_channels=out_channels\n",
        "        self.kernel_size=kernel_size\n",
        "        self.stride=stride\n",
        "        self.padding=padding\n",
        "        self.w_sig = w_sig\n",
        "        self.reset_parameters()\n",
        "\n",
        "    def reset_parameters(self):\n",
        "        torch.nn.init.normal_(self.weight, mean=0, std=self.w_sig/(self.in_channels*np.prod(self.kernel_size)))\n",
        "        if self.bias is not None:\n",
        "            torch.nn.init.normal_(self.bias, mean=0, std=0)\n",
        "\n",
        "    def forward(self, input):\n",
        "        return F.conv2d(input,self.weight,self.bias,self.stride,self.padding)\n",
        "\n",
        "class Conv(nn.Sequential):\n",
        "    def __init__(self, in_channels, out_channels, kernel_size=3, stride=1, padding=None, output_padding=0,\n",
        "                 activation_fn=nn.ReLU, batch_norm=True, transpose=False):\n",
        "        if padding is None:\n",
        "            padding = (kernel_size - 1) // 2\n",
        "        model = []\n",
        "        if not transpose:\n",
        "             model += [nn.Conv2d(in_channels, out_channels, kernel_size=kernel_size, stride=stride, padding=padding,\n",
        "                                bias=not batch_norm)]\n",
        "        else:\n",
        "            model += [nn.ConvTranspose2d(in_channels, out_channels, kernel_size, stride=stride, padding=padding,\n",
        "                                         output_padding=output_padding, bias=not batch_norm)]\n",
        "        if batch_norm:\n",
        "            model += [nn.BatchNorm2d(out_channels, affine=True)]\n",
        "        model += [activation_fn()]\n",
        "        super(Conv, self).__init__(*model)\n",
        "class ResNet18(nn.Module):\n",
        "    def __init__(self, num_classes, pretrained):\n",
        "        super().__init__()\n",
        "        base = resnet18(pretrained=pretrained)\n",
        "        self.base = nn.Sequential(*list(base.children())[:-1])\n",
        "        in_features = base.fc.in_features\n",
        "        self.drop = nn.Dropout()\n",
        "        self.final = nn.Linear(in_features,num_classes)\n",
        "\n",
        "    def forward(self,x):\n",
        "        x = self.base(x)\n",
        "        x = self.drop(x.view(-1,self.final.in_features))\n",
        "        return self.final(x)\n"
      ],
      "metadata": {
        "id": "PCogXvzPmdsI"
      },
      "id": "PCogXvzPmdsI",
      "execution_count": null,
      "outputs": []
    },
    {
      "cell_type": "code",
      "source": [
        "import torch\n",
        "from torch.nn import functional as F\n",
        "from torch.utils.data import DataLoader\n",
        "import numpy as np\n",
        "\n",
        "\n",
        "def UnlearnerLoss(output, labels, full_teacher_logits, unlearn_teacher_logits, KL_temperature):\n",
        "    labels = torch.unsqueeze(labels, dim = 1)\n",
        "\n",
        "    f_teacher_out = F.softmax(full_teacher_logits / KL_temperature, dim=1)\n",
        "    u_teacher_out = F.softmax(unlearn_teacher_logits / KL_temperature, dim=1)\n",
        "\n",
        "    # label 1 means forget sample\n",
        "    # label 0 means retain sample\n",
        "    overall_teacher_out = labels * u_teacher_out + (1-labels)*f_teacher_out\n",
        "    student_out = F.log_softmax(output / KL_temperature, dim=1)\n",
        "    return F.kl_div(student_out, overall_teacher_out)\n",
        "\n",
        "def unlearning_step(model, unlearning_teacher, full_trained_teacher, unlearn_data_loader, optimizer,\n",
        "            device, KL_temperature):\n",
        "    losses = []\n",
        "    for batch in unlearn_data_loader:\n",
        "        x, y = batch\n",
        "        x, y = x.to(device), y.to(device)\n",
        "        with torch.no_grad():\n",
        "            full_teacher_logits = full_trained_teacher(x)\n",
        "            unlearn_teacher_logits = unlearning_teacher(x)\n",
        "        output = model(x)\n",
        "        optimizer.zero_grad()\n",
        "        loss = UnlearnerLoss(output = output, labels=y, full_teacher_logits=full_teacher_logits,\n",
        "                unlearn_teacher_logits=unlearn_teacher_logits, KL_temperature=KL_temperature)\n",
        "        loss.backward()\n",
        "        optimizer.step()\n",
        "        losses.append(loss.detach().cpu().numpy())\n",
        "    return np.mean(losses)\n",
        "\n",
        "\n",
        "def fit_one_unlearning_cycle(epochs,  model, train_loader, val_loader, lr, device):\n",
        "    history = []\n",
        "\n",
        "    optimizer = torch.optim.Adam(model.parameters(), lr = lr)\n",
        "\n",
        "\n",
        "    for epoch in range(epochs):\n",
        "        model.train()\n",
        "        train_losses = []\n",
        "        lrs = []\n",
        "        for batch in train_loader:\n",
        "            loss = training_step(model, batch, device)\n",
        "            loss.backward()\n",
        "            train_losses.append(loss.detach().cpu())\n",
        "\n",
        "            optimizer.step()\n",
        "            optimizer.zero_grad()\n",
        "\n",
        "            lrs.append(get_lr(optimizer))\n",
        "\n",
        "        result = evaluate(model, val_loader, device)\n",
        "        result['train_loss'] = torch.stack(train_losses).mean()\n",
        "        result['lrs'] = lrs\n",
        "        epoch_end(model, epoch, result)\n",
        "        history.append(result)\n",
        "    return history\n",
        "\n",
        "def blindspot_unlearner(model, unlearning_teacher, full_trained_teacher, retain_data, forget_data, epochs = 10,\n",
        "                optimizer = 'adam', lr = 0.01, batch_size = 256, num_workers = 32,\n",
        "                device = 'cuda', KL_temperature = 1):\n",
        "    unlearning_data = UnLearningData(forget_data=forget_data, retain_data=retain_data)\n",
        "    unlearning_loader = DataLoader(unlearning_data, batch_size = batch_size, shuffle=True,\n",
        "                            num_workers=num_workers, pin_memory=True)\n",
        "\n",
        "    unlearning_teacher.eval()\n",
        "    full_trained_teacher.eval()\n",
        "    optimizer = optimizer\n",
        "    if optimizer == 'adam':\n",
        "        optimizer = torch.optim.Adam(model.parameters(), lr = lr)\n",
        "    else:\n",
        "        optimizer = optimizer\n",
        "\n",
        "    for epoch in range(epochs):\n",
        "        loss = unlearning_step(model = model, unlearning_teacher= unlearning_teacher,\n",
        "                        full_trained_teacher=full_trained_teacher, unlearn_data_loader=unlearning_loader,\n",
        "                        optimizer=optimizer, device=device, KL_temperature=KL_temperature)\n",
        "        print(\"Epoch {} Unlearning Loss {}\".format(epoch+1, loss))\n",
        "\n"
      ],
      "metadata": {
        "id": "cwCohrvymo7A"
      },
      "id": "cwCohrvymo7A",
      "execution_count": null,
      "outputs": []
    },
    {
      "cell_type": "markdown",
      "source": [
        "# **Metrics used from the paper directly**"
      ],
      "metadata": {
        "id": "2fYsAFJAok26"
      },
      "id": "2fYsAFJAok26"
    },
    {
      "cell_type": "code",
      "source": [
        "from torch.nn import functional as F\n",
        "import torch\n",
        "from sklearn.svm import SVC\n",
        "\n",
        "def JSDiv(p, q):\n",
        "    m = (p+q)/2\n",
        "    return 0.5*F.kl_div(torch.log(p), m) + 0.5*F.kl_div(torch.log(q), m)\n",
        "\n",
        "# ZRF/UnLearningScore\n",
        "def UnLearningScore(tmodel, gold_model, forget_dl, batch_size, device):\n",
        "    model_preds = []\n",
        "    gold_model_preds = []\n",
        "    with torch.no_grad():\n",
        "        for batch in forget_dl:\n",
        "            x, y, cy = batch\n",
        "            x = x.to(device)\n",
        "            model_output = tmodel(x)\n",
        "            gold_model_output = gold_model(x)\n",
        "            model_preds.append(F.softmax(model_output, dim = 1).detach().cpu())\n",
        "            gold_model_preds.append(F.softmax(gold_model_output, dim = 1).detach().cpu())\n",
        "\n",
        "\n",
        "    model_preds = torch.cat(model_preds, axis = 0)\n",
        "    gold_model_preds = torch.cat(gold_model_preds, axis = 0)\n",
        "    return 1-JSDiv(model_preds, gold_model_preds)\n",
        "\n",
        "@torch.no_grad()\n",
        "def actv_dist(model1, model2, dataloader, device = 'cuda'):\n",
        "    sftmx = nn.Softmax(dim = 1)\n",
        "    distances = []\n",
        "    for batch in dataloader:\n",
        "        x, _, _ = batch\n",
        "        x = x.to(device)\n",
        "        model1_out = model1(x)\n",
        "        model2_out = model2(x)\n",
        "        diff = torch.sqrt(torch.sum(torch.square(F.softmax(model1_out, dim = 1) - F.softmax(model2_out, dim = 1)), axis = 1))\n",
        "        diff = diff.detach().cpu()\n",
        "        distances.append(diff)\n",
        "    distances = torch.cat(distances, axis = 0)\n",
        "    return distances.mean()"
      ],
      "metadata": {
        "id": "_83vWVFVmy-L"
      },
      "id": "_83vWVFVmy-L",
      "execution_count": null,
      "outputs": []
    },
    {
      "cell_type": "code",
      "execution_count": null,
      "metadata": {
        "id": "yBH5qxitY_Wj",
        "outputId": "ddd80971-da53-4ee0-a82f-58b127e06f21"
      },
      "outputs": [
        {
          "name": "stdout",
          "output_type": "stream",
          "text": [
            "Files already downloaded and verified\n",
            "Files already downloaded and verified\n"
          ]
        }
      ],
      "source": [
        "train_ds = CustomCIFAR100(root='.', train=True,download=True, transform=transform_train)\n",
        "valid_ds = CustomCIFAR100(root='.', train=False,download=True, transform=transform_train)\n",
        "\n",
        "batch_size = 256\n",
        "train_dl = DataLoader(train_ds, batch_size, shuffle=True, num_workers=32, pin_memory=True)\n",
        "valid_dl = DataLoader(valid_ds, batch_size, num_workers=32, pin_memory=True)"
      ],
      "id": "yBH5qxitY_Wj"
    },
    {
      "cell_type": "code",
      "execution_count": null,
      "metadata": {
        "id": "0SAAuWtvY_Ws"
      },
      "outputs": [],
      "source": [
        "num_classes = 100\n",
        "classwise_train = {}\n",
        "for i in range(num_classes):\n",
        "    classwise_train[i] = []\n",
        "\n",
        "for img, label, clabel in train_ds:\n",
        "    classwise_train[label].append((img, label, clabel))\n",
        "\n",
        "classwise_test = {}\n",
        "for i in range(num_classes):\n",
        "    classwise_test[i] = []\n",
        "\n",
        "for img, label, clabel in valid_ds:\n",
        "    classwise_test[label].append((img, label, clabel))"
      ],
      "id": "0SAAuWtvY_Ws"
    },
    {
      "cell_type": "code",
      "execution_count": null,
      "metadata": {
        "id": "cvRz4CCqY_Wy"
      },
      "outputs": [],
      "source": [
        "device = 'cuda'\n",
        "model = ResNet18(num_classes = 20, pretrained = True).to(device)\n",
        "epochs = 5\n",
        "history = fit_one_cycle(epochs, model, train_dl, valid_dl, device = device)\n"
      ],
      "id": "cvRz4CCqY_Wy"
    },
    {
      "cell_type": "markdown",
      "metadata": {
        "id": "Ftdw2uw6Y_W5"
      },
      "source": [
        "# Forgetting Rocket class\n",
        "The Rocket is class 98 in CIFAR100.\n",
        "\n",
        "**Context**\n",
        "\n",
        "The CIFAR-100 dataset consists of 60000 32x32 colour images in 100 classes, with 600 images per class. The 100 classes in the CIFAR-100 are grouped into 20 superclasses. Each image comes with a \"fine\" label (the class to which it belongs) and a \"coarse\" label (the superclass to which it belongs). There are 50000 training images and 10000 test images."
      ],
      "id": "Ftdw2uw6Y_W5"
    },
    {
      "cell_type": "code",
      "execution_count": null,
      "metadata": {
        "id": "MJPxRWsTY_W9"
      },
      "outputs": [],
      "source": [
        "# Getting the forget and retain validation data\n",
        "forget_valid = []\n",
        "forget_classes = [98]\n",
        "for cls in range(num_classes):\n",
        "    if cls in forget_classes:\n",
        "        for img, label, clabel in classwise_test[cls]:\n",
        "            forget_valid.append((img, label, clabel))\n",
        "\n",
        "retain_valid = []\n",
        "for cls in range(num_classes):\n",
        "    if cls not in forget_classes:\n",
        "        for img, label, clabel in classwise_test[cls]:\n",
        "            retain_valid.append((img, label, clabel))\n",
        "\n",
        "forget_train = []\n",
        "for cls in range(num_classes):\n",
        "    if cls in forget_classes:\n",
        "        for img, label, clabel in classwise_train[cls]:\n",
        "            forget_train.append((img, label, clabel))\n",
        "\n",
        "retain_train = []\n",
        "for cls in range(num_classes):\n",
        "    if cls not in forget_classes:\n",
        "        for img, label, clabel in classwise_train[cls]:\n",
        "            retain_train.append((img, label, clabel))\n",
        "\n",
        "forget_valid_dl = DataLoader(forget_valid, batch_size, num_workers=32, pin_memory=True)\n",
        "\n",
        "retain_valid_dl = DataLoader(retain_valid, batch_size, num_workers=32, pin_memory=True)\n",
        "\n",
        "forget_train_dl = DataLoader(forget_train, batch_size, num_workers=32, pin_memory=True)\n",
        "retain_train_dl = DataLoader(retain_train, batch_size, num_workers=32, pin_memory=True, shuffle = True)\n",
        "import random\n",
        "retain_train_subset = random.sample(retain_train, int(0.3*len(retain_train)))\n",
        "retain_train_subset_dl = DataLoader(retain_train_subset, batch_size, num_workers=32, pin_memory=True, shuffle = True)"
      ],
      "id": "MJPxRWsTY_W9"
    },
    {
      "cell_type": "code",
      "execution_count": null,
      "metadata": {
        "id": "pe3gwOOEY_XE",
        "outputId": "5d5c8a36-d8bd-4a2d-89c3-6000a99c59d3"
      },
      "outputs": [
        {
          "data": {
            "text/plain": [
              "{'Loss': 0.535236120223999, 'Acc': 85.77934265136719}"
            ]
          },
          "execution_count": 6,
          "metadata": {},
          "output_type": "execute_result"
        }
      ],
      "source": [
        "# Performance of Fully trained model on retain set\n",
        "evaluate(model, retain_valid_dl, device)"
      ],
      "id": "pe3gwOOEY_XE"
    },
    {
      "cell_type": "code",
      "execution_count": null,
      "metadata": {
        "id": "NLksGxV_Y_XK",
        "outputId": "b842c990-e4ce-4ad0-8458-913c08d94006"
      },
      "outputs": [
        {
          "data": {
            "text/plain": [
              "{'Loss': 0.5363734364509583, 'Acc': 82.0}"
            ]
          },
          "execution_count": 7,
          "metadata": {},
          "output_type": "execute_result"
        }
      ],
      "source": [
        "# Performance of Fully trained model on retain set\n",
        "evaluate(model, forget_valid_dl, device)"
      ],
      "id": "NLksGxV_Y_XK"
    },
    {
      "cell_type": "markdown",
      "metadata": {
        "id": "Dk4k6mUKY_XR"
      },
      "source": [
        "## Retrain the model from Scratch\n",
        "Create Retrained Model (Gold model). This is the model trained from scratch without forget data."
      ],
      "id": "Dk4k6mUKY_XR"
    },
    {
      "cell_type": "code",
      "execution_count": null,
      "metadata": {
        "id": "uoxlr3uAY_XT"
      },
      "outputs": [],
      "source": [
        "device = 'cuda'\n",
        "gold_model = ResNet18(num_classes = 20, pretrained = True).to(device)\n",
        "epochs = 5\n",
        "history = fit_one_cycle(epochs, gold_model, retain_train_dl, retain_valid_dl, device = device)\n"
      ],
      "id": "uoxlr3uAY_XT"
    },
    {
      "cell_type": "code",
      "execution_count": null,
      "metadata": {
        "id": "SSDVxy_VY_XX",
        "outputId": "572e329e-7cb5-4bc8-e315-fb60ab2e4cf4"
      },
      "outputs": [
        {
          "data": {
            "text/plain": [
              "{'Loss': 7.545389175415039, 'Acc': 3.0}"
            ]
          },
          "execution_count": 9,
          "metadata": {},
          "output_type": "execute_result"
        }
      ],
      "source": [
        "# evaluate gold model on forget set\n",
        "evaluate(gold_model, forget_valid_dl, device)"
      ],
      "id": "SSDVxy_VY_XX"
    },
    {
      "cell_type": "code",
      "execution_count": null,
      "metadata": {
        "id": "4D6VGZ5gY_XZ",
        "outputId": "f600686a-4390-483d-b3d0-5e01d94ce61a"
      },
      "outputs": [
        {
          "data": {
            "text/plain": [
              "{'Loss': 0.5325239896774292, 'Acc': 85.76885223388672}"
            ]
          },
          "execution_count": 10,
          "metadata": {},
          "output_type": "execute_result"
        }
      ],
      "source": [
        "# evaluate gold model on retain set\n",
        "evaluate(gold_model, retain_valid_dl, device)"
      ],
      "id": "4D6VGZ5gY_XZ"
    },
    {
      "cell_type": "markdown",
      "metadata": {
        "id": "lCfTyElWY_Xd"
      },
      "source": [
        "## Unlearning via KL Divergence in Research Paper"
      ],
      "id": "lCfTyElWY_Xd"
    },
    {
      "cell_type": "code",
      "execution_count": null,
      "metadata": {
        "id": "Gy7It4TeY_Xd",
        "collapsed": true
      },
      "outputs": [],
      "source": [
        "device = 'cuda'\n",
        "unlearning_teacher = ResNet18(num_classes = 20, pretrained = False).to(device).eval()\n",
        "student_model = ResNet18(num_classes = 20, pretrained = False).to(device)\n",
        "model = model.eval()\n",
        "\n",
        "KL_temperature = 1\n",
        "\n",
        "optimizer = torch.optim.Adam(student_model.parameters(), lr = 0.0001)\n",
        "\n",
        "blindspot_unlearner(model = student_model, unlearning_teacher = unlearning_teacher, full_trained_teacher = model,\n",
        "          retain_data = retain_train_subset, forget_data = forget_train, epochs = 1, optimizer = optimizer, lr = 0.0001,\n",
        "          batch_size = 256, num_workers = 32, device = device, KL_temperature = KL_temperature)"
      ],
      "id": "Gy7It4TeY_Xd"
    },
    {
      "cell_type": "code",
      "execution_count": null,
      "metadata": {
        "id": "hukm8UTVY_Xg",
        "outputId": "48ce1837-1d2c-4a9d-d20a-3cd506c0a072"
      },
      "outputs": [
        {
          "data": {
            "text/plain": [
              "{'Loss': 3.3266074657440186, 'Acc': 3.0}"
            ]
          },
          "execution_count": 12,
          "metadata": {},
          "output_type": "execute_result"
        }
      ],
      "source": [
        "# performance of unlearned model on forget set\n",
        "evaluate(student_model, forget_valid_dl, device)"
      ],
      "id": "hukm8UTVY_Xg"
    },
    {
      "cell_type": "code",
      "execution_count": null,
      "metadata": {
        "id": "9uc6u6cBY_Xi",
        "outputId": "ece850f2-81e8-4dc8-ae15-47dba6d7dc26"
      },
      "outputs": [
        {
          "data": {
            "text/plain": [
              "{'Loss': 0.5810623168945312, 'Acc': 84.57299041748047}"
            ]
          },
          "execution_count": 13,
          "metadata": {},
          "output_type": "execute_result"
        }
      ],
      "source": [
        "# performance of unlearned model on retain set\n",
        "evaluate(student_model, retain_valid_dl, device)"
      ],
      "id": "9uc6u6cBY_Xi"
    }
  ],
  "metadata": {
    "kernelspec": {
      "display_name": "Python 3",
      "language": "python",
      "name": "python3"
    },
    "language_info": {
      "codemirror_mode": {
        "name": "ipython",
        "version": 3
      },
      "file_extension": ".py",
      "mimetype": "text/x-python",
      "name": "python",
      "nbconvert_exporter": "python",
      "pygments_lexer": "ipython3",
      "version": "3.7.7"
    },
    "colab": {
      "provenance": []
    }
  },
  "nbformat": 4,
  "nbformat_minor": 5
}