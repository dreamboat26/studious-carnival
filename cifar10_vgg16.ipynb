{
  "cells": [
    {
      "cell_type": "code",
      "execution_count": null,
      "metadata": {
        "id": "EbjUu8bHeHSj"
      },
      "outputs": [],
      "source": [
        "import torch\n",
        "import torch.nn as nn\n",
        "import torch.nn.functional as F\n",
        "import torchvision\n",
        "import torchvision.transforms as transforms\n",
        "from torchvision import models\n",
        "\n",
        "from sklearn.metrics import classification_report\n",
        "import numpy as np\n",
        "import pandas as pd\n",
        "import matplotlib.pyplot as plt\n",
        "import seaborn as sns\n",
        "from tqdm import tqdm\n",
        "import pickle"
      ]
    },
    {
      "cell_type": "code",
      "execution_count": null,
      "metadata": {
        "colab": {
          "base_uri": "https://localhost:8080/"
        },
        "id": "dgB_5Oz9ejd2",
        "outputId": "e7ca21ce-46fc-4b93-e393-d0e706bba49b"
      },
      "outputs": [
        {
          "name": "stdout",
          "output_type": "stream",
          "text": [
            "cpu\n"
          ]
        }
      ],
      "source": [
        "DEVICE = torch.device(\"cuda\" if torch.cuda.is_available() else \"cpu\")\n",
        "print(DEVICE)"
      ]
    },
    {
      "cell_type": "code",
      "execution_count": null,
      "metadata": {
        "id": "j1PhdNLneprE"
      },
      "outputs": [],
      "source": [
        "num_epochs = 5\n",
        "batch_size = 40\n",
        "learning_rate = 0.001\n",
        "classes = ('plane', 'car' , 'bird', 'cat', 'deer', 'dog', 'frog', 'horse', 'ship', 'truck')"
      ]
    },
    {
      "cell_type": "code",
      "execution_count": null,
      "metadata": {
        "colab": {
          "base_uri": "https://localhost:8080/"
        },
        "id": "gRBmxoiiew1x",
        "outputId": "e93f20be-8f77-4822-9ad5-b5ed2f0bbc55"
      },
      "outputs": [
        {
          "name": "stdout",
          "output_type": "stream",
          "text": [
            "Files already downloaded and verified\n",
            "Files already downloaded and verified\n"
          ]
        }
      ],
      "source": [
        "transform = transforms.Compose([\n",
        "    transforms.Resize(size=(224, 224)),\n",
        "    transforms.ToTensor(),\n",
        "    transforms.Normalize(\n",
        "       (0.4914, 0.4822, 0.4465), (0.2023, 0.1994, 0.2010)\n",
        "    )\n",
        "])\n",
        "\n",
        "train_dataset = torchvision.datasets.CIFAR10(\n",
        "    root= './data', train = True,\n",
        "    download =True, transform = transform)\n",
        "test_dataset = torchvision.datasets.CIFAR10(\n",
        "    root= './data', train = False,\n",
        "    download =True, transform = transform)"
      ]
    },
    {
      "cell_type": "code",
      "execution_count": null,
      "metadata": {
        "colab": {
          "base_uri": "https://localhost:8080/"
        },
        "id": "ExxZFTVWe3NR",
        "outputId": "c8f0a346-231e-4fc9-ba84-d94a677db131"
      },
      "outputs": [
        {
          "name": "stdout",
          "output_type": "stream",
          "text": [
            "1250 250\n"
          ]
        }
      ],
      "source": [
        "train_loader = torch.utils.data.DataLoader(train_dataset, batch_size = batch_size, shuffle = True)\n",
        "test_loader = torch.utils.data.DataLoader(test_dataset, batch_size = batch_size, shuffle = True)\n",
        "n_total_step = len(train_loader)\n",
        "print(n_total_step, len(test_loader))"
      ]
    },
    {
      "cell_type": "markdown",
      "metadata": {
        "id": "mdtmydgSj4jM"
      },
      "source": [
        "### VGG16 Model Training"
      ]
    },
    {
      "cell_type": "code",
      "execution_count": null,
      "metadata": {
        "colab": {
          "base_uri": "https://localhost:8080/"
        },
        "id": "AzF9qoTvfFmm",
        "outputId": "64e0568d-a2f3-43d4-9be4-4a83cefad2a5"
      },
      "outputs": [
        {
          "name": "stderr",
          "output_type": "stream",
          "text": [
            "Downloading: \"https://download.pytorch.org/models/vgg16-397923af.pth\" to /root/.cache/torch/hub/checkpoints/vgg16-397923af.pth\n",
            "100%|██████████| 528M/528M [00:06<00:00, 89.3MB/s]\n"
          ]
        }
      ],
      "source": [
        "model = models.vgg16(weights=models.VGG16_Weights.DEFAULT)\n",
        "input_lastLayer = model.classifier[6].in_features\n",
        "model.classifier[6] = nn.Linear(input_lastLayer,10)\n",
        "model = model.to(DEVICE)\n",
        "criterion = nn.CrossEntropyLoss()\n",
        "optimizer = torch.optim.SGD(model.parameters(), lr = learning_rate, momentum=0.9, weight_decay=5e-4)"
      ]
    },
    {
      "cell_type": "code",
      "execution_count": null,
      "metadata": {
        "colab": {
          "base_uri": "https://localhost:8080/"
        },
        "id": "-8Dg7YnRfYDK",
        "outputId": "415aa079-9060-4f63-91db-f8a8e98df263"
      },
      "outputs": [
        {
          "name": "stdout",
          "output_type": "stream",
          "text": [
            "epoch 1/5, step: 250/1250: loss = 0.52163, acc = 75.00%\n",
            "epoch 1/5, step: 500/1250: loss = 0.28709, acc = 90.00%\n",
            "epoch 1/5, step: 750/1250: loss = 0.16889, acc = 97.50%\n",
            "epoch 1/5, step: 1000/1250: loss = 0.38465, acc = 87.50%\n",
            "epoch 1/5, step: 1250/1250: loss = 0.33414, acc = 85.00%\n",
            "\n",
            "epoch 2/5, step: 250/1250: loss = 0.43268, acc = 85.00%\n",
            "epoch 2/5, step: 500/1250: loss = 0.14142, acc = 95.00%\n",
            "epoch 2/5, step: 750/1250: loss = 0.34591, acc = 85.00%\n",
            "epoch 2/5, step: 1000/1250: loss = 0.17772, acc = 87.50%\n",
            "epoch 2/5, step: 1250/1250: loss = 0.15219, acc = 90.00%\n",
            "\n",
            "epoch 3/5, step: 250/1250: loss = 0.09198, acc = 97.50%\n",
            "epoch 3/5, step: 500/1250: loss = 0.07575, acc = 100.00%\n",
            "epoch 3/5, step: 750/1250: loss = 0.08953, acc = 95.00%\n",
            "epoch 3/5, step: 1000/1250: loss = 0.26179, acc = 92.50%\n",
            "epoch 3/5, step: 1250/1250: loss = 0.23501, acc = 90.00%\n",
            "\n",
            "epoch 4/5, step: 250/1250: loss = 0.08031, acc = 97.50%\n",
            "epoch 4/5, step: 500/1250: loss = 0.06315, acc = 95.00%\n",
            "epoch 4/5, step: 750/1250: loss = 0.30550, acc = 85.00%\n",
            "epoch 4/5, step: 1000/1250: loss = 0.13157, acc = 97.50%\n",
            "epoch 4/5, step: 1250/1250: loss = 0.10351, acc = 97.50%\n",
            "\n",
            "epoch 5/5, step: 250/1250: loss = 0.15174, acc = 92.50%\n",
            "epoch 5/5, step: 500/1250: loss = 0.10739, acc = 97.50%\n",
            "epoch 5/5, step: 750/1250: loss = 0.01819, acc = 100.00%\n",
            "epoch 5/5, step: 1000/1250: loss = 0.05813, acc = 97.50%\n",
            "epoch 5/5, step: 1250/1250: loss = 0.02694, acc = 100.00%\n",
            "\n"
          ]
        }
      ],
      "source": [
        "for epoch in range(num_epochs):\n",
        "  for i, (imgs , labels) in enumerate(train_loader):\n",
        "    imgs = imgs.to(DEVICE)\n",
        "    labels = labels.to(DEVICE)\n",
        "    labels_hat = model(imgs)\n",
        "    n_corrects = (labels_hat.argmax(axis=1)==labels).sum().item()\n",
        "    loss_value = criterion(labels_hat, labels)\n",
        "    loss_value.backward()\n",
        "    optimizer.step()\n",
        "    optimizer.zero_grad()\n",
        "    if (i+1) % 250 == 0:\n",
        "      print(f'epoch {epoch+1}/{num_epochs}, step: {i+1}/{n_total_step}: loss = {loss_value:.5f}, acc = {100*(n_corrects/labels.size(0)):.2f}%')\n",
        "  print()"
      ]
    },
    {
      "cell_type": "code",
      "execution_count": null,
      "metadata": {
        "colab": {
          "base_uri": "https://localhost:8080/"
        },
        "id": "2UPH3xeLjXre",
        "outputId": "7975426f-c8bd-464c-f025-28c157cd9e7e"
      },
      "outputs": [
        {
          "name": "stdout",
          "output_type": "stream",
          "text": [
            "Model saved!\n"
          ]
        }
      ],
      "source": [
        "torch.save(model.state_dict(), 'cifar10_vgg16.pth')\n",
        "print(\"Model saved!\")"
      ]
    },
    {
      "cell_type": "markdown",
      "metadata": {
        "id": "1dZzg6eCj8oj"
      },
      "source": [
        "### Machine Unlearning"
      ]
    },
    {
      "cell_type": "code",
      "execution_count": null,
      "metadata": {
        "colab": {
          "base_uri": "https://localhost:8080/",
          "height": 339
        },
        "id": "GwJGxMECDoLa",
        "outputId": "e910f0ae-3833-4d3a-b887-c59d0cd5f3f2"
      },
      "outputs": [
        {
          "data": {
            "text/plain": [
              "VGG(\n",
              "  (features): Sequential(\n",
              "    (0): Conv2d(3, 64, kernel_size=(3, 3), stride=(1, 1), padding=(1, 1))\n",
              "    (1): ReLU(inplace=True)\n",
              "    (2): Conv2d(64, 64, kernel_size=(3, 3), stride=(1, 1), padding=(1, 1))\n",
              "    (3): ReLU(inplace=True)\n",
              "    (4): MaxPool2d(kernel_size=2, stride=2, padding=0, dilation=1, ceil_mode=False)\n",
              "    (5): Conv2d(64, 128, kernel_size=(3, 3), stride=(1, 1), padding=(1, 1))\n",
              "    (6): ReLU(inplace=True)\n",
              "    (7): Conv2d(128, 128, kernel_size=(3, 3), stride=(1, 1), padding=(1, 1))\n",
              "    (8): ReLU(inplace=True)\n",
              "    (9): MaxPool2d(kernel_size=2, stride=2, padding=0, dilation=1, ceil_mode=False)\n",
              "    (10): Conv2d(128, 256, kernel_size=(3, 3), stride=(1, 1), padding=(1, 1))\n",
              "    (11): ReLU(inplace=True)\n",
              "    (12): Conv2d(256, 256, kernel_size=(3, 3), stride=(1, 1), padding=(1, 1))\n",
              "    (13): ReLU(inplace=True)\n",
              "    (14): Conv2d(256, 256, kernel_size=(3, 3), stride=(1, 1), padding=(1, 1))\n",
              "    (15): ReLU(inplace=True)\n",
              "    (16): MaxPool2d(kernel_size=2, stride=2, padding=0, dilation=1, ceil_mode=False)\n",
              "    (17): Conv2d(256, 512, kernel_size=(3, 3), stride=(1, 1), padding=(1, 1))\n",
              "    (18): ReLU(inplace=True)\n",
              "    (19): Conv2d(512, 512, kernel_size=(3, 3), stride=(1, 1), padding=(1, 1))\n",
              "    (20): ReLU(inplace=True)\n",
              "    (21): Conv2d(512, 512, kernel_size=(3, 3), stride=(1, 1), padding=(1, 1))\n",
              "    (22): ReLU(inplace=True)\n",
              "    (23): MaxPool2d(kernel_size=2, stride=2, padding=0, dilation=1, ceil_mode=False)\n",
              "    (24): Conv2d(512, 512, kernel_size=(3, 3), stride=(1, 1), padding=(1, 1))\n",
              "    (25): ReLU(inplace=True)\n",
              "    (26): Conv2d(512, 512, kernel_size=(3, 3), stride=(1, 1), padding=(1, 1))\n",
              "    (27): ReLU(inplace=True)\n",
              "    (28): Conv2d(512, 512, kernel_size=(3, 3), stride=(1, 1), padding=(1, 1))\n",
              "    (29): ReLU(inplace=True)\n",
              "    (30): MaxPool2d(kernel_size=2, stride=2, padding=0, dilation=1, ceil_mode=False)\n",
              "  )\n",
              "  (avgpool): AdaptiveAvgPool2d(output_size=(7, 7))\n",
              "  (classifier): Sequential(\n",
              "    (0): Linear(in_features=25088, out_features=4096, bias=True)\n",
              "    (1): ReLU(inplace=True)\n",
              "    (2): Dropout(p=0.5, inplace=False)\n",
              "    (3): Linear(in_features=4096, out_features=4096, bias=True)\n",
              "    (4): ReLU(inplace=True)\n",
              "    (5): Dropout(p=0.5, inplace=False)\n",
              "    (6): Linear(in_features=4096, out_features=10, bias=True)\n",
              "  )\n",
              ")"
            ]
          },
          "execution_count": 6,
          "metadata": {},
          "output_type": "execute_result"
        }
      ],
      "source": [
        "learned_model = models.vgg16()\n",
        "input_lastLayer = learned_model.classifier[6].in_features\n",
        "learned_model.classifier[6] = nn.Linear(input_lastLayer,10)\n",
        "learned_model.load_state_dict(torch.load('cifar10_vgg16.pth', map_location=DEVICE))\n",
        "learned_model.to(DEVICE)"
      ]
    },
    {
      "cell_type": "code",
      "execution_count": null,
      "metadata": {
        "colab": {
          "base_uri": "https://localhost:8080/",
          "height": 711
        },
        "id": "hXGbS0iPiK6K",
        "outputId": "8d2d3a14-6de3-45c2-80a2-79aa5cdd3918"
      },
      "outputs": [
        {
          "name": "stdout",
          "output_type": "stream",
          "text": [
            "Overall accuracy 92.36%\n"
          ]
        },
        {
          "data": {
            "image/png": "[encoded data removed]",
            "text/plain": [
              "<Figure size 1000x800 with 2 Axes>"
            ]
          },
          "metadata": {},
          "output_type": "display_data"
        },
        {
          "data": {
            "text/plain": [
              "92.36"
            ]
          },
          "execution_count": 12,
          "metadata": {},
          "output_type": "execute_result"
        }
      ],
      "source": [
        "def evaluate_model(model, test_loader, mask=None):\n",
        "  n_corrects = 0\n",
        "  n_samples = 0\n",
        "  for i, (test_images_set , test_labels_set) in enumerate(test_loader):\n",
        "    test_images_set = test_images_set.to(DEVICE)\n",
        "    test_labels_set = test_labels_set.to(DEVICE)\n",
        "    if mask is not None:\n",
        "      y_predicted = model(test_images_set, mask)\n",
        "    else:\n",
        "      y_predicted = model(test_images_set)\n",
        "    labels_predicted = y_predicted.argmax(axis = 1)\n",
        "    n_corrects += (labels_predicted==test_labels_set).sum().item()\n",
        "    n_samples += test_labels_set.size(0)\n",
        "  acc = (n_corrects / n_samples) * 100\n",
        "  print(f'Overall accuracy {acc}%')\n",
        "  heatmap = pd.DataFrame(data=0,index=classes,columns=classes)\n",
        "  with torch.no_grad():\n",
        "    for images, labels in test_loader:\n",
        "      images = images.to(DEVICE)\n",
        "      labels = labels.to(DEVICE)\n",
        "      if mask is not None:\n",
        "        outputs = model(images, mask)\n",
        "      else:\n",
        "        outputs = model(images)\n",
        "      _, predicted = torch.max(outputs, 1)\n",
        "      c = (predicted == labels).squeeze()\n",
        "      for i in range(batch_size):\n",
        "        true_label = labels[i].item()\n",
        "        predicted_label = predicted[i].item()\n",
        "        heatmap.iloc[true_label,predicted_label] += 1\n",
        "  _, ax = plt.subplots(figsize=(10, 8))\n",
        "  ax = sns.heatmap(heatmap, annot=True, fmt=\"d\",cmap=\"YlGnBu\")\n",
        "  plt.show()\n",
        "\n",
        "  return acc\n",
        "\n",
        "evaluate_model(learned_model, test_loader)"
      ]
    },
    {
      "cell_type": "code",
      "execution_count": null,
      "metadata": {
        "id": "s8DO2c5JhcZF"
      },
      "outputs": [],
      "source": [
        "class2idx = {k: v for v, k in enumerate(classes)}\n",
        "target_class = class2idx['plane'] # 'plane', 'car' , 'bird', 'cat', 'deer', 'dog', 'frog', 'horse', 'ship', 'truck'\n",
        "target_indices = [i for i, label in enumerate(train_dataset.targets) if label == target_class]\n",
        "non_target_indices = [i for i, label in enumerate(train_dataset.targets) if label != target_class]\n",
        "target_loader = torch.utils.data.DataLoader(torch.utils.data.Subset(train_dataset, target_indices), batch_size=1, shuffle=True)\n",
        "non_target_loader = torch.utils.data.DataLoader(torch.utils.data.Subset(train_dataset, non_target_indices), batch_size=1, shuffle=True)"
      ]
    },
    {
      "cell_type": "code",
      "execution_count": null,
      "metadata": {
        "id": "Mx5RVAsbgCLO"
      },
      "outputs": [],
      "source": [
        "class Custom_VGG16(nn.Module):\n",
        "  def __init__(self, vgg16_model):\n",
        "    super(Custom_VGG16, self).__init__()\n",
        "    self.features = vgg16_model.features\n",
        "    self.classifier = vgg16_model.classifier\n",
        "\n",
        "  def forward(self, x, mask=None):\n",
        "    x = self.features(x)\n",
        "    if mask is not None:\n",
        "      x = x * mask\n",
        "    x = x.view(x.size(0), -1)\n",
        "    x = self.classifier(x)\n",
        "    return x\n",
        "\n",
        "unl_model = Custom_VGG16(learned_model)"
      ]
    },
    {
      "cell_type": "code",
      "execution_count": null,
      "metadata": {
        "colab": {
          "base_uri": "https://localhost:8080/"
        },
        "id": "Dqx2Aed0gpMr",
        "outputId": "72f910a0-08f5-4b49-909c-3cd2bcbedce0"
      },
      "outputs": [
        {
          "name": "stderr",
          "output_type": "stream",
          "text": [
            "100%|██████████| 5000/5000 [22:17<00:00,  3.74it/s]\n"
          ]
        }
      ],
      "source": [
        "def identify_neurons_to_mask(model, data_loader, layer_name, threshold=0.5):\n",
        "    layer_activations = []\n",
        "\n",
        "    def hook_fn(module, input, output):\n",
        "        layer_activations.append(output.detach().cpu())\n",
        "\n",
        "    handle = getattr(model, layer_name).register_forward_hook(hook_fn)\n",
        "    model.eval()\n",
        "    with torch.no_grad():\n",
        "        for images, _ in tqdm(data_loader):\n",
        "            images = images.to(DEVICE)\n",
        "            model(images)\n",
        "    handle.remove()\n",
        "\n",
        "    activations = torch.cat(layer_activations, dim=0)\n",
        "    avg_activation = torch.mean(activations, dim=0)\n",
        "\n",
        "    mask = avg_activation < threshold\n",
        "    return mask\n",
        "\n",
        "unl_mask = identify_neurons_to_mask(unl_model, target_loader, 'features')"
      ]
    },
    {
      "cell_type": "code",
      "execution_count": null,
      "metadata": {
        "id": "BqRkfiCBZy0a",
        "outputId": "41899d74-6975-4aed-b909-72fa45110afe"
      },
      "outputs": [
        {
          "data": {
            "text/plain": [
              "tensor([[[ True,  True,  True,  ...,  True,  True,  True],\n",
              "         [ True,  True,  True,  ...,  True,  True,  True],\n",
              "         [ True,  True,  True,  ...,  True,  True,  True],\n",
              "         ...,\n",
              "         [ True,  True,  True,  ...,  True,  True,  True],\n",
              "         [ True,  True,  True,  ...,  True,  True,  True],\n",
              "         [ True,  True,  True,  ...,  True,  True,  True]],\n",
              "\n",
              "        [[ True,  True,  True,  ...,  True,  True,  True],\n",
              "         [ True,  True,  True,  ...,  True,  True,  True],\n",
              "         [ True,  True,  True,  ...,  True,  True,  True],\n",
              "         ...,\n",
              "         [ True,  True,  True,  ...,  True,  True,  True],\n",
              "         [ True, False,  True,  ...,  True,  True,  True],\n",
              "         [ True,  True,  True,  ...,  True,  True,  True]],\n",
              "\n",
              "        [[ True,  True,  True,  ...,  True,  True,  True],\n",
              "         [ True,  True,  True,  ...,  True,  True,  True],\n",
              "         [ True,  True,  True,  ...,  True,  True,  True],\n",
              "         ...,\n",
              "         [ True,  True,  True,  ...,  True,  True,  True],\n",
              "         [ True,  True,  True,  ...,  True,  True,  True],\n",
              "         [ True,  True,  True,  ...,  True,  True,  True]],\n",
              "\n",
              "        ...,\n",
              "\n",
              "        [[ True,  True,  True,  ...,  True,  True,  True],\n",
              "         [ True,  True,  True,  ...,  True,  True,  True],\n",
              "         [ True,  True, False,  ..., False, False,  True],\n",
              "         ...,\n",
              "         [ True, False, False,  ..., False,  True,  True],\n",
              "         [ True,  True,  True,  ...,  True,  True,  True],\n",
              "         [ True,  True,  True,  ...,  True,  True,  True]],\n",
              "\n",
              "        [[ True,  True,  True,  ...,  True,  True,  True],\n",
              "         [ True,  True,  True,  ...,  True,  True,  True],\n",
              "         [ True,  True,  True,  ...,  True,  True,  True],\n",
              "         ...,\n",
              "         [ True,  True,  True,  ...,  True,  True,  True],\n",
              "         [ True,  True,  True,  ...,  True,  True,  True],\n",
              "         [ True,  True,  True,  ...,  True,  True,  True]],\n",
              "\n",
              "        [[ True,  True,  True,  ...,  True,  True,  True],\n",
              "         [ True,  True,  True,  ...,  True,  True,  True],\n",
              "         [ True,  True,  True,  ...,  True,  True,  True],\n",
              "         ...,\n",
              "         [ True,  True,  True,  ...,  True,  True,  True],\n",
              "         [ True,  True,  True,  ...,  True,  True,  True],\n",
              "         [ True,  True,  True,  ...,  True,  True,  True]]])"
            ]
          },
          "execution_count": 16,
          "metadata": {},
          "output_type": "execute_result"
        }
      ],
      "source": [
        "unl_mask"
      ]
    },
    {
      "cell_type": "code",
      "execution_count": null,
      "metadata": {
        "id": "mrueKRKaZy0d"
      },
      "outputs": [],
      "source": [
        "with open('unl_mask.pkl', 'wb') as file:\n",
        "    pickle.dump(unl_mask, file)"
      ]
    },
    {
      "cell_type": "code",
      "execution_count": null,
      "metadata": {
        "colab": {
          "base_uri": "https://localhost:8080/",
          "height": 711
        },
        "id": "yGUpK8CKiI96",
        "outputId": "1df768ee-d2e9-4b04-873b-93f6455e6f0d"
      },
      "outputs": [
        {
          "name": "stdout",
          "output_type": "stream",
          "text": [
            "Overall accuracy 82.41000000000001%\n"
          ]
        },
        {
          "data": {
            "image/png": "[encoded data removed]",
            "text/plain": [
              "<Figure size 1000x800 with 2 Axes>"
            ]
          },
          "metadata": {},
          "output_type": "display_data"
        },
        {
          "data": {
            "text/plain": [
              "82.41000000000001"
            ]
          },
          "execution_count": 16,
          "metadata": {},
          "output_type": "execute_result"
        }
      ],
      "source": [
        "evaluate_model(unl_model, test_loader, mask=unl_mask.to(DEVICE))"
      ]
    },
    {
      "cell_type": "markdown",
      "metadata": {
        "id": "plpXol7UZy0g"
      },
      "source": [
        "### Classification Reports"
      ]
    },
    {
      "cell_type": "code",
      "execution_count": null,
      "metadata": {
        "id": "tbR0Vt5FZy0g",
        "outputId": "0316715c-2670-432f-8b9d-13e01f985c44"
      },
      "outputs": [
        {
          "data": {
            "text/plain": [
              "tensor([[[ True,  True,  True,  ...,  True,  True,  True],\n",
              "         [ True,  True,  True,  ...,  True,  True,  True],\n",
              "         [ True,  True,  True,  ...,  True,  True,  True],\n",
              "         ...,\n",
              "         [ True,  True,  True,  ...,  True,  True,  True],\n",
              "         [ True,  True,  True,  ...,  True,  True,  True],\n",
              "         [ True,  True,  True,  ...,  True,  True,  True]],\n",
              "\n",
              "        [[ True,  True,  True,  ...,  True,  True,  True],\n",
              "         [ True,  True,  True,  ...,  True,  True,  True],\n",
              "         [ True,  True,  True,  ...,  True,  True,  True],\n",
              "         ...,\n",
              "         [ True,  True,  True,  ...,  True,  True,  True],\n",
              "         [ True, False,  True,  ...,  True,  True,  True],\n",
              "         [ True,  True,  True,  ...,  True,  True,  True]],\n",
              "\n",
              "        [[ True,  True,  True,  ...,  True,  True,  True],\n",
              "         [ True,  True,  True,  ...,  True,  True,  True],\n",
              "         [ True,  True,  True,  ...,  True,  True,  True],\n",
              "         ...,\n",
              "         [ True,  True,  True,  ...,  True,  True,  True],\n",
              "         [ True,  True,  True,  ...,  True,  True,  True],\n",
              "         [ True,  True,  True,  ...,  True,  True,  True]],\n",
              "\n",
              "        ...,\n",
              "\n",
              "        [[ True,  True,  True,  ...,  True,  True,  True],\n",
              "         [ True,  True,  True,  ...,  True,  True,  True],\n",
              "         [ True,  True, False,  ..., False, False,  True],\n",
              "         ...,\n",
              "         [ True, False, False,  ..., False,  True,  True],\n",
              "         [ True,  True,  True,  ...,  True,  True,  True],\n",
              "         [ True,  True,  True,  ...,  True,  True,  True]],\n",
              "\n",
              "        [[ True,  True,  True,  ...,  True,  True,  True],\n",
              "         [ True,  True,  True,  ...,  True,  True,  True],\n",
              "         [ True,  True,  True,  ...,  True,  True,  True],\n",
              "         ...,\n",
              "         [ True,  True,  True,  ...,  True,  True,  True],\n",
              "         [ True,  True,  True,  ...,  True,  True,  True],\n",
              "         [ True,  True,  True,  ...,  True,  True,  True]],\n",
              "\n",
              "        [[ True,  True,  True,  ...,  True,  True,  True],\n",
              "         [ True,  True,  True,  ...,  True,  True,  True],\n",
              "         [ True,  True,  True,  ...,  True,  True,  True],\n",
              "         ...,\n",
              "         [ True,  True,  True,  ...,  True,  True,  True],\n",
              "         [ True,  True,  True,  ...,  True,  True,  True],\n",
              "         [ True,  True,  True,  ...,  True,  True,  True]]])"
            ]
          },
          "execution_count": 8,
          "metadata": {},
          "output_type": "execute_result"
        }
      ],
      "source": [
        "with open('unl_mask.pkl', 'rb') as file:\n",
        "    unl_mask = pickle.load(file)\n",
        "\n",
        "unl_mask"
      ]
    },
    {
      "cell_type": "code",
      "execution_count": null,
      "metadata": {
        "id": "0g5mTKLH7AWt"
      },
      "outputs": [],
      "source": [
        "def get_classification_report(model, data_loader, mask=None):\n",
        "  y_true = []\n",
        "  y_pred = []\n",
        "  with torch.no_grad():\n",
        "    for (test_images_set , test_labels_set) in tqdm(data_loader):\n",
        "      test_images_set = test_images_set.to(DEVICE)\n",
        "      test_labels_set = test_labels_set.to(DEVICE)\n",
        "      if mask is not None:\n",
        "        y_predicted = model(test_images_set, mask)\n",
        "      else:\n",
        "        y_predicted = model(test_images_set)\n",
        "      labels_predicted = y_predicted.argmax(axis = 1)\n",
        "      y_true.extend(test_labels_set.cpu().numpy())\n",
        "      y_pred.extend(labels_predicted.cpu().numpy())\n",
        "  return classification_report(y_true, y_pred)"
      ]
    },
    {
      "cell_type": "code",
      "execution_count": null,
      "metadata": {
        "id": "nKEejicKZy0i"
      },
      "outputs": [],
      "source": [
        "class2idx = {k: v for v, k in enumerate(classes)}\n",
        "target_class = class2idx['plane'] # 'plane', 'car' , 'bird', 'cat', 'deer', 'dog', 'frog', 'horse', 'ship', 'truck'\n",
        "sub_test_indices = [i for i, labels in enumerate(test_dataset.targets)]\n",
        "sub_non_target_test_indices = [i for i, label in enumerate(test_dataset.targets) if label != target_class]\n",
        "sub_test_indices = sub_test_indices[:500]\n",
        "sub_non_target_test_indices = sub_non_target_test_indices[:500]\n",
        "sub_test_loader = torch.utils.data.DataLoader(torch.utils.data.Subset(test_dataset, sub_test_indices), batch_size=1, shuffle=True)\n",
        "sub_non_target_test_loader = torch.utils.data.DataLoader(torch.utils.data.Subset(test_dataset, sub_non_target_test_indices), batch_size=1, shuffle=True)"
      ]
    },
    {
      "cell_type": "code",
      "execution_count": null,
      "metadata": {
        "id": "W9NKVsP779xT",
        "outputId": "112527aa-88ea-4a9d-a7e0-379f3820150e"
      },
      "outputs": [
        {
          "name": "stderr",
          "output_type": "stream",
          "text": [
            "100%|██████████| 500/500 [01:27<00:00,  5.68it/s]\n"
          ]
        },
        {
          "name": "stdout",
          "output_type": "stream",
          "text": [
            "              precision    recall  f1-score   support\n",
            "\n",
            "           0       0.92      0.81      0.86        57\n",
            "           1       0.95      0.98      0.96        41\n",
            "           2       0.98      0.80      0.88        51\n",
            "           3       0.75      0.90      0.81        49\n",
            "           4       0.95      0.95      0.95        40\n",
            "           5       0.82      0.94      0.87        48\n",
            "           6       0.91      0.98      0.95        54\n",
            "           7       1.00      0.85      0.92        47\n",
            "           8       0.96      0.96      0.96        57\n",
            "           9       0.93      0.95      0.94        56\n",
            "\n",
            "    accuracy                           0.91       500\n",
            "   macro avg       0.92      0.91      0.91       500\n",
            "weighted avg       0.92      0.91      0.91       500\n",
            "\n",
            "\n",
            "----------------------------------------------------------------------\n",
            "\n"
          ]
        },
        {
          "name": "stderr",
          "output_type": "stream",
          "text": [
            "100%|██████████| 500/500 [01:30<00:00,  5.51it/s]\n"
          ]
        },
        {
          "name": "stdout",
          "output_type": "stream",
          "text": [
            "              precision    recall  f1-score   support\n",
            "\n",
            "           0       1.00      0.09      0.16        57\n",
            "           1       0.91      0.98      0.94        41\n",
            "           2       0.82      0.82      0.82        51\n",
            "           3       0.54      0.76      0.63        49\n",
            "           4       0.83      0.75      0.79        40\n",
            "           5       0.59      0.98      0.74        48\n",
            "           6       0.88      0.93      0.90        54\n",
            "           7       0.91      0.83      0.87        47\n",
            "           8       0.84      0.89      0.86        57\n",
            "           9       0.91      0.91      0.91        56\n",
            "\n",
            "    accuracy                           0.78       500\n",
            "   macro avg       0.82      0.79      0.76       500\n",
            "weighted avg       0.83      0.78      0.76       500\n",
            "\n",
            "\n",
            "----------------------------------------------------------------------\n",
            "\n"
          ]
        },
        {
          "name": "stderr",
          "output_type": "stream",
          "text": [
            "100%|██████████| 500/500 [01:32<00:00,  5.42it/s]\n",
            "c:\\Users\\anule\\anaconda3\\envs\\mach_unl_project\\Lib\\site-packages\\sklearn\\metrics\\_classification.py:1509: UndefinedMetricWarning: Recall is ill-defined and being set to 0.0 in labels with no true samples. Use `zero_division` parameter to control this behavior.\n",
            "  _warn_prf(average, modifier, f\"{metric.capitalize()} is\", len(result))\n",
            "c:\\Users\\anule\\anaconda3\\envs\\mach_unl_project\\Lib\\site-packages\\sklearn\\metrics\\_classification.py:1509: UndefinedMetricWarning: Recall is ill-defined and being set to 0.0 in labels with no true samples. Use `zero_division` parameter to control this behavior.\n",
            "  _warn_prf(average, modifier, f\"{metric.capitalize()} is\", len(result))\n",
            "c:\\Users\\anule\\anaconda3\\envs\\mach_unl_project\\Lib\\site-packages\\sklearn\\metrics\\_classification.py:1509: UndefinedMetricWarning: Recall is ill-defined and being set to 0.0 in labels with no true samples. Use `zero_division` parameter to control this behavior.\n",
            "  _warn_prf(average, modifier, f\"{metric.capitalize()} is\", len(result))\n"
          ]
        },
        {
          "name": "stdout",
          "output_type": "stream",
          "text": [
            "              precision    recall  f1-score   support\n",
            "\n",
            "           0       0.00      0.00      0.00         0\n",
            "           1       0.96      0.98      0.97        44\n",
            "           2       1.00      0.80      0.89        55\n",
            "           3       0.75      0.86      0.80        51\n",
            "           4       0.94      0.94      0.94        47\n",
            "           5       0.90      0.92      0.91        60\n",
            "           6       0.91      0.98      0.95        65\n",
            "           7       0.98      0.89      0.93        53\n",
            "           8       0.98      0.97      0.97        60\n",
            "           9       0.98      0.95      0.97        65\n",
            "\n",
            "    accuracy                           0.92       500\n",
            "   macro avg       0.84      0.83      0.83       500\n",
            "weighted avg       0.93      0.92      0.93       500\n",
            "\n",
            "\n",
            "----------------------------------------------------------------------\n",
            "\n"
          ]
        },
        {
          "name": "stderr",
          "output_type": "stream",
          "text": [
            "100%|██████████| 500/500 [01:30<00:00,  5.50it/s]"
          ]
        },
        {
          "name": "stdout",
          "output_type": "stream",
          "text": [
            "              precision    recall  f1-score   support\n",
            "\n",
            "           1       0.95      0.95      0.95        44\n",
            "           2       0.95      0.76      0.85        55\n",
            "           3       0.68      0.80      0.74        51\n",
            "           4       0.95      0.81      0.87        47\n",
            "           5       0.66      0.95      0.78        60\n",
            "           6       0.87      0.91      0.89        65\n",
            "           7       0.98      0.87      0.92        53\n",
            "           8       0.98      0.82      0.89        60\n",
            "           9       0.97      0.91      0.94        65\n",
            "\n",
            "    accuracy                           0.87       500\n",
            "   macro avg       0.89      0.86      0.87       500\n",
            "weighted avg       0.89      0.87      0.87       500\n",
            "\n"
          ]
        },
        {
          "name": "stderr",
          "output_type": "stream",
          "text": [
            "\n"
          ]
        }
      ],
      "source": [
        "print(get_classification_report(learned_model, sub_test_loader, mask=None))\n",
        "print('\\n----------------------------------------------------------------------\\n')\n",
        "print(get_classification_report(unl_model, sub_test_loader, mask=unl_mask.to(DEVICE)))\n",
        "print('\\n----------------------------------------------------------------------\\n')\n",
        "print(get_classification_report(learned_model, sub_non_target_test_loader, mask=None))\n",
        "print('\\n----------------------------------------------------------------------\\n')\n",
        "print(get_classification_report(unl_model, sub_non_target_test_loader, mask=unl_mask.to(DEVICE)))"
      ]
    }
  ],
  "metadata": {
    "accelerator": "GPU",
    "colab": {
      "gpuType": "T4",
      "provenance": []
    },
    "kernelspec": {
      "display_name": "Python 3",
      "name": "python3"
    },
    "language_info": {
      "codemirror_mode": {
        "name": "ipython",
        "version": 3
      },
      "file_extension": ".py",
      "mimetype": "text/x-python",
      "name": "python",
      "nbconvert_exporter": "python",
      "pygments_lexer": "ipython3",
      "version": "3.11.9"
    }
  },
  "nbformat": 4,
  "nbformat_minor": 0
}